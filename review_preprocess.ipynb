{
 "cells": [
  {
   "cell_type": "code",
   "execution_count": 6,
   "metadata": {},
   "outputs": [],
   "source": [
    "import pandas as pd"
   ]
  },
  {
   "cell_type": "code",
   "execution_count": 7,
   "metadata": {},
   "outputs": [],
   "source": [
    "df = pd.read_csv('./resources/TheLastofUsPartIIReviews_csv.csv')"
   ]
  },
  {
   "cell_type": "code",
   "execution_count": 8,
   "metadata": {},
   "outputs": [
    {
     "name": "stdout",
     "output_type": "stream",
     "text": [
      "<class 'pandas.core.frame.DataFrame'>\n",
      "RangeIndex: 80606 entries, 0 to 80605\n",
      "Data columns (total 7 columns):\n",
      " #   Column        Non-Null Count  Dtype \n",
      "---  ------        --------------  ----- \n",
      " 0   Unnamed: 0    80606 non-null  int64 \n",
      " 1   name          80606 non-null  object\n",
      " 2   date          80606 non-null  object\n",
      " 3   rating        80606 non-null  object\n",
      " 4   review        80606 non-null  object\n",
      " 5   thumbs up     80606 non-null  object\n",
      " 6   total thumbs  80606 non-null  object\n",
      "dtypes: int64(1), object(6)\n",
      "memory usage: 4.3+ MB\n"
     ]
    }
   ],
   "source": [
    "df.info()"
   ]
  },
  {
   "cell_type": "code",
   "execution_count": 9,
   "metadata": {},
   "outputs": [
    {
     "data": {
      "text/html": [
       "<div>\n",
       "<style scoped>\n",
       "    .dataframe tbody tr th:only-of-type {\n",
       "        vertical-align: middle;\n",
       "    }\n",
       "\n",
       "    .dataframe tbody tr th {\n",
       "        vertical-align: top;\n",
       "    }\n",
       "\n",
       "    .dataframe thead th {\n",
       "        text-align: right;\n",
       "    }\n",
       "</style>\n",
       "<table border=\"1\" class=\"dataframe\">\n",
       "  <thead>\n",
       "    <tr style=\"text-align: right;\">\n",
       "      <th></th>\n",
       "      <th>Unnamed: 0</th>\n",
       "      <th>name</th>\n",
       "      <th>date</th>\n",
       "      <th>rating</th>\n",
       "      <th>review</th>\n",
       "      <th>thumbs up</th>\n",
       "      <th>total thumbs</th>\n",
       "    </tr>\n",
       "  </thead>\n",
       "  <tbody>\n",
       "    <tr>\n",
       "      <th>0</th>\n",
       "      <td>0</td>\n",
       "      <td>SC4RECR00W</td>\n",
       "      <td>Jun 19, 2020</td>\n",
       "      <td>1</td>\n",
       "      <td>I can't believe how they got rid of the main c...</td>\n",
       "      <td>320</td>\n",
       "      <td>427</td>\n",
       "    </tr>\n",
       "    <tr>\n",
       "      <th>1</th>\n",
       "      <td>1</td>\n",
       "      <td>Bucketanarchy</td>\n",
       "      <td>Jun 20, 2020</td>\n",
       "      <td>0</td>\n",
       "      <td>To say I didn't like it would be insulting any...</td>\n",
       "      <td>237</td>\n",
       "      <td>365</td>\n",
       "    </tr>\n",
       "    <tr>\n",
       "      <th>2</th>\n",
       "      <td>2</td>\n",
       "      <td>POW15</td>\n",
       "      <td>Jun 30, 2020</td>\n",
       "      <td>2</td>\n",
       "      <td>As someone who was a big fan of the Last of Us...</td>\n",
       "      <td>210</td>\n",
       "      <td>326</td>\n",
       "    </tr>\n",
       "    <tr>\n",
       "      <th>3</th>\n",
       "      <td>3</td>\n",
       "      <td>tourist27</td>\n",
       "      <td>Oct 31, 2020</td>\n",
       "      <td>2</td>\n",
       "      <td>I bet gamers in 2100 will laugh their ass off ...</td>\n",
       "      <td>201</td>\n",
       "      <td>317</td>\n",
       "    </tr>\n",
       "    <tr>\n",
       "      <th>4</th>\n",
       "      <td>4</td>\n",
       "      <td>lastofreviews</td>\n",
       "      <td>Nov 22, 2020</td>\n",
       "      <td>1</td>\n",
       "      <td>I'll be honest now, first 20 minutes (or howev...</td>\n",
       "      <td>184</td>\n",
       "      <td>291</td>\n",
       "    </tr>\n",
       "    <tr>\n",
       "      <th>...</th>\n",
       "      <td>...</td>\n",
       "      <td>...</td>\n",
       "      <td>...</td>\n",
       "      <td>...</td>\n",
       "      <td>...</td>\n",
       "      <td>...</td>\n",
       "      <td>...</td>\n",
       "    </tr>\n",
       "    <tr>\n",
       "      <th>95</th>\n",
       "      <td>95</td>\n",
       "      <td>Asmarath</td>\n",
       "      <td>Jun 19, 2020</td>\n",
       "      <td>4</td>\n",
       "      <td>This game has so many issues.\\r The graphics a...</td>\n",
       "      <td>85</td>\n",
       "      <td>143</td>\n",
       "    </tr>\n",
       "    <tr>\n",
       "      <th>96</th>\n",
       "      <td>96</td>\n",
       "      <td>ny13123</td>\n",
       "      <td>Jun 19, 2020</td>\n",
       "      <td>1</td>\n",
       "      <td>The system and graphics in this game are great...</td>\n",
       "      <td>85</td>\n",
       "      <td>143</td>\n",
       "    </tr>\n",
       "    <tr>\n",
       "      <th>97</th>\n",
       "      <td>97</td>\n",
       "      <td>GamingChemistry</td>\n",
       "      <td>Sep 11, 2020</td>\n",
       "      <td>0</td>\n",
       "      <td>The complexity of the characters has been dest...</td>\n",
       "      <td>85</td>\n",
       "      <td>143</td>\n",
       "    </tr>\n",
       "    <tr>\n",
       "      <th>98</th>\n",
       "      <td>98</td>\n",
       "      <td>Whydo</td>\n",
       "      <td>Sep 10, 2020</td>\n",
       "      <td>3</td>\n",
       "      <td>This game is bad. Don’t trust the critics and ...</td>\n",
       "      <td>85</td>\n",
       "      <td>143</td>\n",
       "    </tr>\n",
       "    <tr>\n",
       "      <th>99</th>\n",
       "      <td>99</td>\n",
       "      <td>Packer5do</td>\n",
       "      <td>Jun 19, 2020</td>\n",
       "      <td>3</td>\n",
       "      <td>Jesus, where do I even begin. On a technical l...</td>\n",
       "      <td>1314</td>\n",
       "      <td>2211</td>\n",
       "    </tr>\n",
       "  </tbody>\n",
       "</table>\n",
       "<p>100 rows × 7 columns</p>\n",
       "</div>"
      ],
      "text/plain": [
       "    Unnamed: 0             name          date rating  \\\n",
       "0            0       SC4RECR00W  Jun 19, 2020      1   \n",
       "1            1    Bucketanarchy  Jun 20, 2020      0   \n",
       "2            2            POW15  Jun 30, 2020      2   \n",
       "3            3        tourist27  Oct 31, 2020      2   \n",
       "4            4    lastofreviews  Nov 22, 2020      1   \n",
       "..         ...              ...           ...    ...   \n",
       "95          95         Asmarath  Jun 19, 2020      4   \n",
       "96          96          ny13123  Jun 19, 2020      1   \n",
       "97          97  GamingChemistry  Sep 11, 2020      0   \n",
       "98          98            Whydo  Sep 10, 2020      3   \n",
       "99          99        Packer5do  Jun 19, 2020      3   \n",
       "\n",
       "                                               review thumbs up total thumbs  \n",
       "0   I can't believe how they got rid of the main c...       320          427  \n",
       "1   To say I didn't like it would be insulting any...       237          365  \n",
       "2   As someone who was a big fan of the Last of Us...       210          326  \n",
       "3   I bet gamers in 2100 will laugh their ass off ...       201          317  \n",
       "4   I'll be honest now, first 20 minutes (or howev...       184          291  \n",
       "..                                                ...       ...          ...  \n",
       "95  This game has so many issues.\\r The graphics a...        85          143  \n",
       "96  The system and graphics in this game are great...        85          143  \n",
       "97  The complexity of the characters has been dest...        85          143  \n",
       "98  This game is bad. Don’t trust the critics and ...        85          143  \n",
       "99  Jesus, where do I even begin. On a technical l...      1314         2211  \n",
       "\n",
       "[100 rows x 7 columns]"
      ]
     },
     "execution_count": 9,
     "metadata": {},
     "output_type": "execute_result"
    }
   ],
   "source": [
    "df.head(100)"
   ]
  },
  {
   "cell_type": "code",
   "execution_count": 10,
   "metadata": {},
   "outputs": [
    {
     "name": "stderr",
     "output_type": "stream",
     "text": [
      "[nltk_data] Downloading package words to\n",
      "[nltk_data]     C:\\Users\\daniszab\\AppData\\Roaming\\nltk_data...\n",
      "[nltk_data]   Package words is already up-to-date!\n"
     ]
    }
   ],
   "source": [
    "import nltk\n",
    "nltk.download('words')\n",
    "\n",
    "def removeNonEnglishReviews(text):\n",
    "    words = set(nltk.corpus.words.words())\n",
    "\n",
    "    return ' '.join(w for w in nltk.wordpunct_tokenize(text) \\\n",
    "         if w.lower() in words or not w.isalpha())"
   ]
  },
  {
   "cell_type": "code",
   "execution_count": null,
   "metadata": {},
   "outputs": [],
   "source": [
    "from nltk.corpus import stopwords\n",
    "nltk.download('stopwords')\n",
    "\n",
    "STOPWORDS = stopwords.words('english')\n",
    "\n",
    "def remove_stopwords(text):\n",
    "    '''Stopword-ök eltávolítása'''\n",
    "    tokenized_text = text.split(' ')\n",
    "    return ' '.join([w for w in tokenized_text if not w in STOPWORDS])"
   ]
  },
  {
   "cell_type": "code",
   "execution_count": null,
   "metadata": {},
   "outputs": [],
   "source": [
    "useless_words = []\n",
    "\n",
    "with open('./resources/useless_words.txt','r') as f:\n",
    "    for line in f:\n",
    "        useless_words.extend(line.split())"
   ]
  },
  {
   "cell_type": "code",
   "execution_count": null,
   "metadata": {},
   "outputs": [],
   "source": [
    "del df['Unnamed: 0']\n",
    "df['review'] = df['review'].replace({'#':''}, regex = True) #eltünteti a # karakteres rekordokat\n",
    "df['review'] = df['review'].str.strip() #ezután stripeljük, hogy ne maradjon spaces\n",
    "df = df[df['review'].map(lambda x: x.isascii())] #eltüntetjük a nem asci karakteres szavkat (jó a ciril/kanji betűkre stb)\n",
    "df = df[df['review'] != ''] #elüntetjük az üres sorokat\n",
    "df['review'] = df['review'].str.lower() #kisbetűssé tesszük"
   ]
  },
  {
   "cell_type": "code",
   "execution_count": null,
   "metadata": {},
   "outputs": [],
   "source": [
    "#Külön listába kigyűjtött szavak eltávolítása --wordcloud segítségével\n",
    "useless = r'\\b(?:{})\\b'.format('|'.join(useless_words))\n",
    "df['review'] = df['review'].replace(useless, '')\n",
    "df['review'] = df['review'].str.strip()"
   ]
  },
  {
   "cell_type": "code",
   "execution_count": null,
   "metadata": {},
   "outputs": [],
   "source": [
    "#Kevés karakteres reviewok kigyűjtése -- érdekesség\n",
    "df_small = df[df['review'].str.len() < 100]\n",
    "df_small.to_json('./df_small.json')\n",
    "df_small.info()"
   ]
  },
  {
   "cell_type": "code",
   "execution_count": null,
   "metadata": {},
   "outputs": [],
   "source": [
    "df['review'] = df['review'].apply(removeNonEnglishReviews)\n",
    "df['review'] = df['review'].apply(remove_stopwords)\n",
    "df['review'] = df['review'].replace({\"'\":''}, regex = True)\n",
    "df['review'] = df['review'].str.strip()\n",
    "df = df[df['review'] != '']"
   ]
  },
  {
   "cell_type": "code",
   "execution_count": null,
   "metadata": {},
   "outputs": [],
   "source": [
    "df.info()"
   ]
  },
  {
   "cell_type": "code",
   "execution_count": null,
   "metadata": {},
   "outputs": [],
   "source": [
    "df.reset_index()"
   ]
  },
  {
   "cell_type": "code",
   "execution_count": null,
   "metadata": {},
   "outputs": [],
   "source": [
    "df['thumbs down'] = df['total thumbs'].astype(int) - df['thumbs up'].astype(int)"
   ]
  },
  {
   "cell_type": "code",
   "execution_count": null,
   "metadata": {},
   "outputs": [],
   "source": [
    "df.to_json('./resources/preprocessed.json')"
   ]
  }
 ],
 "metadata": {
  "interpreter": {
   "hash": "670bd5fa86d32a85c41f4c64818e146be292d93275e40991e041dee05da7a10d"
  },
  "kernelspec": {
   "display_name": "Python 3.10.0 64-bit",
   "language": "python",
   "name": "python3"
  },
  "language_info": {
   "name": "python",
   "version": "3.10.0"
  },
  "orig_nbformat": 4
 },
 "nbformat": 4,
 "nbformat_minor": 2
}
